{
 "cells": [
  {
   "cell_type": "markdown",
   "metadata": {},
   "source": [
    "# Building a Random Forest Classifier with Spark in Batch Mode"
   ]
  },
  {
   "cell_type": "markdown",
   "metadata": {},
   "source": [
    "In this notebook, you'll learn the basics of working with Spark in batch mode to build a random forest classifier. Before digging in, make sure to read the background context in the related reading in the curriculum!"
   ]
  },
  {
   "cell_type": "markdown",
   "metadata": {},
   "source": [
    "##  Import dependencies\n",
    "\n",
    "First off, we need to import the tools we'll need from PySpark. The imports below allow us to connect to the Spark server, load our data, clean it, and prepare, execute, and evaluate a model."
   ]
  },
  {
   "cell_type": "code",
   "execution_count": 1,
   "metadata": {},
   "outputs": [],
   "source": [
    "from pyspark import SparkContext\n",
    "from pyspark.sql import SparkSession\n",
    "\n",
    "from pyspark.ml import Pipeline\n",
    "from pyspark.ml.classification import RandomForestClassifier\n",
    "from pyspark.ml.feature import IndexToString, StringIndexer, VectorIndexer, VectorAssembler\n",
    "from pyspark.ml.evaluation import MulticlassClassificationEvaluator\n",
    "\n",
    "from pyspark.sql.functions import isnan, when, count, col"
   ]
  },
  {
   "cell_type": "markdown",
   "metadata": {},
   "source": [
    "## Set our constants\n",
    "\n",
    "Next, we create a set of constants that we can refer to throughout the notebook. These are values that the rest of our code needs to run, but that we might need to change at some point (for instance, if the location of our data changes). "
   ]
  },
  {
   "cell_type": "code",
   "execution_count": 2,
   "metadata": {},
   "outputs": [],
   "source": [
    "CSV_PATH = \"/home/ds/notebooks/datasets/UCI_HAR/allData.csv\"\n",
    "CSV_ACTIVITY_LABEL_PATH = \"/home/ds/notebooks/datasets/UCI_HAR/activity_labels.csv\"\n",
    "APP_NAME = \"UCI HAR Random Forest Example\"\n",
    "SPARK_URL = \"local[*]\"\n",
    "RANDOM_SEED = 141107\n",
    "TRAINING_DATA_RATIO = 0.8\n",
    "RF_NUM_TREES = 10\n",
    "RF_MAX_DEPTH = 4\n",
    "RF_NUM_BINS = 32"
   ]
  },
  {
   "cell_type": "markdown",
   "metadata": {},
   "source": [
    "## Connect to the server and load data\n",
    "\n",
    "Now we're ready to connect to the Spark server. We do that (relying on the constants set above) and then load our labels (loaded into `activity_labels`) and activity data (loaded into `df`). "
   ]
  },
  {
   "cell_type": "code",
   "execution_count": 3,
   "metadata": {},
   "outputs": [],
   "source": [
    "spark = SparkSession.builder.appName(APP_NAME).master(SPARK_URL).getOrCreate()\n",
    "activity_labels = spark.read.options(inferschema = \"true\").csv(CSV_ACTIVITY_LABEL_PATH)\n",
    "df = spark.read.options(inferschema = \"true\").csv(CSV_PATH)"
   ]
  },
  {
   "cell_type": "markdown",
   "metadata": {},
   "source": [
    "## Validate the data\n",
    "\n",
    "If our data has been properly cleaned and prepared, it will meet the following criteria, which we'll verify in just a moment:\n",
    "\n",
    "* The dataframe shape should be 10,299 rows by 562 columns\n",
    "* All feature columns should be doubles. Note than one of the columns is for our label and it will not be double.\n",
    "* There should be no nulls. This point is crucial because Spark will fail to build our vector variables for our classifier if there are any null values.\n",
    "\n",
    "Let's confirm these points."
   ]
  },
  {
   "cell_type": "code",
   "execution_count": 4,
   "metadata": {},
   "outputs": [
    {
     "name": "stdout",
     "output_type": "stream",
     "text": [
      "Dataset shape is 10299 rows by 562 columns.\n"
     ]
    }
   ],
   "source": [
    "# Confirm the dataframe shape is 10,299 rows by 562 columns\n",
    "print(f\"Dataset shape is {df.count():d} rows by {len(df.columns):d} columns.\")"
   ]
  },
  {
   "cell_type": "code",
   "execution_count": 5,
   "metadata": {},
   "outputs": [
    {
     "name": "stdout",
     "output_type": "stream",
     "text": [
      "561 columns out of 562 total are type double.\n"
     ]
    }
   ],
   "source": [
    "# Confirm that all feature columns are doubles via a list comprehension\n",
    "# We're expecting 561 of 562 here, accounting for the labels column\n",
    "double_cols = [col[0] for col in df.dtypes if col[1] == 'double']\n",
    "print(f\"{len(double_cols):d} columns out of {len(df.columns):d} total are type double.\")"
   ]
  },
  {
   "cell_type": "code",
   "execution_count": 6,
   "metadata": {},
   "outputs": [
    {
     "name": "stdout",
     "output_type": "stream",
     "text": [
      "There are 0 null values in the dataset.\n"
     ]
    }
   ],
   "source": [
    "# Confirm there are no null values. We use the dataframe select method to build a \n",
    "# list that is then converted to a Python dict. This way it's easy to sum up the nulls.\n",
    "null_counts = df.select([count(when(isnan(c) | col(c).isNull(), c)).alias(c) \n",
    "                         for c in df.columns]).toPandas().to_dict(orient='records')\n",
    "\n",
    "print(f\"There are {sum(null_counts[0].values()):d} null values in the dataset.\")"
   ]
  },
  {
   "cell_type": "markdown",
   "metadata": {},
   "source": [
    "## Set up and run our classifier in Spark\n",
    "\n",
    "After confirming our data is clean, we're ready to reshape the data and run the random forest model.\n",
    "\n",
    "In Spark, we manipulate the data to work in a Spark pipeline, define each of the steps in the pipeline, chain them together, and finally run the pipeline.\n",
    "\n",
    "Apache Spark classifiers expect 2 columns of input:\n",
    "\n",
    "1. __labels__: an indexed set of numeric variables that represent the classification from the set of features we provide.\n",
    "2. __features__: an indexed, vector variable that contains all of the feature values in each row. \n",
    "\n",
    "In order to do this, we need to create these 2 columns from our dataset - the data is there, but not yet in a format we can use in the classifier.\n",
    "\n",
    "To create the indexed labels column, we'll create a column called `indexedLabel` using the `StringIndexer` method. We use the column `_c0` as the source for our label index since that contains our labels. The column contains only one value per index.\n",
    "    \n",
    "To create the indexed features column, we'll need to do two things. First, we'll create the vector of features using the `VectorAssembler` method. To create this vector, we'll need to use all 561 numeric columns from our data frame. The vector assembler will create a new column called `features`, and each row of this column will contain a 561-element vector that is built from the 561 features in the dataset.\n",
    "\n",
    "Finally, we'll complete the data preparation by creating an indexed vector from the `features` column. We'll call this vector `indexedFeatures`.\n",
    "    \n",
    "Since the classifier expects indexed labels and an indexed vector column of data, we'll use the `indexedLabel` and `indexedFeatures` as inputs to our random forest classifier."
   ]
  },
  {
   "cell_type": "code",
   "execution_count": 7,
   "metadata": {},
   "outputs": [],
   "source": [
    "# Generate our feature vector.\n",
    "# Note that we're doing the work on the `df` object - we don't create new dataframes, \n",
    "# just add columns to the one we already are using.\n",
    "\n",
    "# the transform method creates the column.\n",
    "\n",
    "df = VectorAssembler(inputCols=double_cols, outputCol=\"features\").transform(df)"
   ]
  },
  {
   "cell_type": "markdown",
   "metadata": {},
   "source": [
    "Let's confirm that the features are there. It's easy to do this in Apache Spark using the `select` and `show` methods on the dataframe.  "
   ]
  },
  {
   "cell_type": "code",
   "execution_count": 8,
   "metadata": {},
   "outputs": [
    {
     "name": "stdout",
     "output_type": "stream",
     "text": [
      "+---+-----+-------+--------------------+\n",
      "|_c0|  _c1|    _c2|            features|\n",
      "+---+-----+-------+--------------------+\n",
      "|  5|0.289|-0.0203|[0.289,-0.0203,-0...|\n",
      "|  5|0.278|-0.0164|[0.278,-0.0164,-0...|\n",
      "|  5| 0.28|-0.0195|[0.28,-0.0195,-0....|\n",
      "|  5|0.279|-0.0262|[0.279,-0.0262,-0...|\n",
      "|  5|0.277|-0.0166|[0.277,-0.0166,-0...|\n",
      "+---+-----+-------+--------------------+\n",
      "only showing top 5 rows\n",
      "\n"
     ]
    }
   ],
   "source": [
    "df.select(\"_c0\",\"_c1\",\"_c2\", \"features\").show(5)"
   ]
  },
  {
   "cell_type": "markdown",
   "metadata": {},
   "source": [
    "Now we're ready to build the indexers, split our data for training and testing, define our model, and finally chain everything together into a pipeline.\n",
    "\n",
    "__It's important to note that when we execute this cell, we're not actually running our model. At this point, we're only defining its parameters__."
   ]
  },
  {
   "cell_type": "code",
   "execution_count": 9,
   "metadata": {},
   "outputs": [],
   "source": [
    "# Build the training indexers / split data / classifier\n",
    "# first we'll generate a labelIndexer\n",
    "labelIndexer = StringIndexer(inputCol=\"_c0\", outputCol=\"indexedLabel\").fit(df)\n",
    "\n",
    "# now generate the indexed feature vector\n",
    "featureIndexer = VectorIndexer(inputCol=\"features\", outputCol=\"indexedFeatures\", maxCategories=4).fit(df)\n",
    "    \n",
    "# Split the data into training and validation sets (30% held out for testing)\n",
    "(trainingData, testData) = df.randomSplit([TRAINING_DATA_RATIO, 1 - TRAINING_DATA_RATIO])\n",
    "\n",
    "# Train a RandomForest model.\n",
    "rf = RandomForestClassifier(labelCol=\"indexedLabel\", featuresCol=\"indexedFeatures\", numTrees=RF_NUM_TREES)\n",
    "\n",
    "# Chain indexers and forest in a Pipeline\n",
    "pipeline = Pipeline(stages=[labelIndexer, featureIndexer, rf])"
   ]
  },
  {
   "cell_type": "markdown",
   "metadata": {},
   "source": [
    "This next cell runs the pipeline, delivering a trained model at the end of the process."
   ]
  },
  {
   "cell_type": "code",
   "execution_count": null,
   "metadata": {},
   "outputs": [],
   "source": []
  },
  {
   "cell_type": "code",
   "execution_count": 11,
   "metadata": {
    "scrolled": true
   },
   "outputs": [],
   "source": [
    "# Train model.  This also runs the indexers.\n",
    "model = pipeline.fit(trainingData)"
   ]
  },
  {
   "cell_type": "markdown",
   "metadata": {},
   "source": [
    "It is now easy to test our model and make predictions simply by using the model's `transform` method on the `testData` dataset."
   ]
  },
  {
   "cell_type": "code",
   "execution_count": 12,
   "metadata": {},
   "outputs": [],
   "source": [
    "# Make predictions.\n",
    "predictions = model.transform(testData)"
   ]
  },
  {
   "cell_type": "markdown",
   "metadata": {},
   "source": [
    "## Evaluate the model\n",
    "\n",
    "Now we can use the MulticlassClassificationEvaluator to test the model's accuracy."
   ]
  },
  {
   "cell_type": "code",
   "execution_count": 13,
   "metadata": {},
   "outputs": [
    {
     "name": "stdout",
     "output_type": "stream",
     "text": [
      "Test Error = 0.0870425\n",
      "Accuracy = 0.912957\n"
     ]
    }
   ],
   "source": [
    "# Select (prediction, true label) and compute test error\n",
    "evaluator = MulticlassClassificationEvaluator(\n",
    "    labelCol=\"indexedLabel\", predictionCol=\"prediction\", metricName=\"accuracy\")\n",
    "accuracy = evaluator.evaluate(predictions)\n",
    "\n",
    "print(f\"Test Error = {(1.0 - accuracy):g}\")\n",
    "print(f\"Accuracy = {accuracy:g}\")"
   ]
  },
  {
   "cell_type": "code",
   "execution_count": 15,
   "metadata": {},
   "outputs": [
    {
     "name": "stdout",
     "output_type": "stream",
     "text": [
      "Coefficients: \n",
      "7 X 561 CSRMatrix\n",
      "(1,16) 0.0103\n",
      "(2,281) 0.0105\n",
      "(3,302) 0.0111\n",
      "(3,310) 0.0111\n",
      "(3,314) 0.0105\n",
      "(3,381) 0.01\n",
      "(3,508) 0.0149\n",
      "(4,40) -0.2597\n",
      "(5,47) -0.0001\n",
      "(6,49) -0.2614\n",
      "(6,52) -0.2631\n",
      "(6,56) -0.1984\n",
      "(6,60) -0.0039\n",
      "(6,308) -0.0024\n",
      "(6,333) -0.0151\n",
      "(6,334) -0.017\n",
      "..\n",
      "..\n",
      "Intercept: [-6.186717912730653,1.0408249437041404,0.9408860964524167,0.8392777973685462,1.0757789934654056,1.1409107751570735,1.1490393065830717]\n"
     ]
    },
    {
     "data": {
      "text/plain": [
       "False"
      ]
     },
     "execution_count": 15,
     "metadata": {},
     "output_type": "execute_result"
    }
   ],
   "source": [
    "from pyspark.ml.classification import LogisticRegression\n",
    "from pyspark.ml.classification import LogisticRegressionTrainingSummary\n",
    "# Same but with LOGS\n",
    "df_lr = df[\"_c0\", \"features\"]\n",
    "df_lr = df_lr.selectExpr(\"_c0 as label\", \"features as features\")\n",
    "\n",
    "#labelIndexer = StringIndexer(inputCol=\"_c0\", outputCol=\"indexedLabel\").fit(df_lr)\n",
    "#featureIndexer = VectorIndexer(inputCol=\"features\", outputCol=\"indexedFeatures\", maxCategories=4).fit(df)\n",
    "(trainingData, testData) = df_lr.randomSplit([TRAINING_DATA_RATIO, 1 - TRAINING_DATA_RATIO])\n",
    "lr = LogisticRegression(maxIter=10, regParam=0.3, elasticNetParam=0.8)\n",
    "\n",
    "lrModel = lr.fit(trainingData)\n",
    "\n",
    "lrt = LogisticRegressionTrainingSummary(lrModel)\n",
    "# Print the coefficients and intercept for multinomial logistic regression\n",
    "print(\"Coefficients: \\n\" + str(lrModel.coefficientMatrix))\n",
    "print(\"Intercept: \" + str(lrModel.interceptVector))\n",
    "\n",
    "lrModel.hasSummary\n",
    "#lrModel.summary\n",
    "\n",
    "#model = pipeline.fit(trainingData)\n",
    "#predictions = model.transform(testData)\n",
    "#df_lr.show()"
   ]
  },
  {
   "cell_type": "code",
   "execution_count": 30,
   "metadata": {},
   "outputs": [
    {
     "name": "stdout",
     "output_type": "stream",
     "text": [
      "+-----+--------------------+\n",
      "|label|            features|\n",
      "+-----+--------------------+\n",
      "|    5|[0.289,-0.0203,-0...|\n",
      "|    5|[0.278,-0.0164,-0...|\n",
      "|    5|[0.28,-0.0195,-0....|\n",
      "|    5|[0.279,-0.0262,-0...|\n",
      "|    5|[0.277,-0.0166,-0...|\n",
      "|    5|[0.277,-0.0101,-0...|\n",
      "|    5|[0.279,-0.0196,-0...|\n",
      "|    5|[0.277,-0.0305,-0...|\n",
      "|    5|[0.277,-0.0218,-0...|\n",
      "|    5|[0.281,-0.00996,-...|\n",
      "|    5|[0.277,-0.0127,-0...|\n",
      "|    5|[0.276,-0.0214,-0...|\n",
      "|    5|[0.278,-0.0204,-0...|\n",
      "|    5|[0.277,-0.0147,-0...|\n",
      "|    5|[0.298,0.0271,-0....|\n",
      "|    5|[0.279,-0.023,-0....|\n",
      "|    5|[0.279,-0.0148,-0...|\n",
      "|    5|[0.28,-0.0139,-0....|\n",
      "|    5|[0.278,-0.0182,-0...|\n",
      "|    5|[0.276,-0.017,-0....|\n",
      "+-----+--------------------+\n",
      "only showing top 20 rows\n",
      "\n"
     ]
    }
   ],
   "source": [
    "df_lr.show()"
   ]
  },
  {
   "cell_type": "markdown",
   "metadata": {},
   "source": [
    "## Next Steps\n",
    "\n",
    "We've seen how to prepare data and build a classifier in Spark. You might want to play around with this notebook and learn more about how Spark works. Here are some ideas:\n",
    "\n",
    "- Look at the set of labels, and see if there are any features that would make sense to combine. Spark allows you to map values into a new column.\n",
    "- Identify the most important features among the 561 source features (using PCA or something similar), then reduce the feature set and see if the model performs better.\n",
    "- Modify the settings of the random forest to see if the performance improves.\n",
    "- Use Spark's tools to find other techniques to evaluate the performance of your model. See if you can figure out how to generate an ROC plot, find the AUC value, or plot a confusion matrix."
   ]
  },
  {
   "cell_type": "code",
   "execution_count": 65,
   "metadata": {},
   "outputs": [
    {
     "name": "stdout",
     "output_type": "stream",
     "text": [
      "root\n",
      " |-- _c0: integer (nullable = true)\n",
      " |-- _c1: double (nullable = true)\n",
      " |-- _c2: double (nullable = true)\n",
      " |-- _c3: double (nullable = true)\n",
      " |-- _c4: double (nullable = true)\n",
      " |-- _c5: double (nullable = true)\n",
      " |-- _c6: double (nullable = true)\n",
      " |-- _c7: double (nullable = true)\n",
      " |-- _c8: double (nullable = true)\n",
      " |-- _c9: double (nullable = true)\n",
      " |-- _c10: double (nullable = true)\n",
      " |-- _c11: double (nullable = true)\n",
      " |-- _c12: double (nullable = true)\n",
      " |-- _c13: double (nullable = true)\n",
      " |-- _c14: double (nullable = true)\n",
      " |-- _c15: double (nullable = true)\n",
      " |-- _c16: double (nullable = true)\n",
      " |-- _c17: double (nullable = true)\n",
      " |-- _c18: double (nullable = true)\n",
      " |-- _c19: double (nullable = true)\n",
      " |-- _c20: double (nullable = true)\n",
      " |-- _c21: double (nullable = true)\n",
      " |-- _c22: double (nullable = true)\n",
      " |-- _c23: double (nullable = true)\n",
      " |-- _c24: double (nullable = true)\n",
      " |-- _c25: double (nullable = true)\n",
      " |-- _c26: double (nullable = true)\n",
      " |-- _c27: double (nullable = true)\n",
      " |-- _c28: double (nullable = true)\n",
      " |-- _c29: double (nullable = true)\n",
      " |-- _c30: double (nullable = true)\n",
      " |-- _c31: double (nullable = true)\n",
      " |-- _c32: double (nullable = true)\n",
      " |-- _c33: double (nullable = true)\n",
      " |-- _c34: double (nullable = true)\n",
      " |-- _c35: double (nullable = true)\n",
      " |-- _c36: double (nullable = true)\n",
      " |-- _c37: double (nullable = true)\n",
      " |-- _c38: double (nullable = true)\n",
      " |-- _c39: double (nullable = true)\n",
      " |-- _c40: double (nullable = true)\n",
      " |-- _c41: double (nullable = true)\n",
      " |-- _c42: double (nullable = true)\n",
      " |-- _c43: double (nullable = true)\n",
      " |-- _c44: double (nullable = true)\n",
      " |-- _c45: double (nullable = true)\n",
      " |-- _c46: double (nullable = true)\n",
      " |-- _c47: double (nullable = true)\n",
      " |-- _c48: double (nullable = true)\n",
      " |-- _c49: double (nullable = true)\n",
      " |-- _c50: double (nullable = true)\n",
      " |-- _c51: double (nullable = true)\n",
      " |-- _c52: double (nullable = true)\n",
      " |-- _c53: double (nullable = true)\n",
      " |-- _c54: double (nullable = true)\n",
      " |-- _c55: double (nullable = true)\n",
      " |-- _c56: double (nullable = true)\n",
      " |-- _c57: double (nullable = true)\n",
      " |-- _c58: double (nullable = true)\n",
      " |-- _c59: double (nullable = true)\n",
      " |-- _c60: double (nullable = true)\n",
      " |-- _c61: double (nullable = true)\n",
      " |-- _c62: double (nullable = true)\n",
      " |-- _c63: double (nullable = true)\n",
      " |-- _c64: double (nullable = true)\n",
      " |-- _c65: double (nullable = true)\n",
      " |-- _c66: double (nullable = true)\n",
      " |-- _c67: double (nullable = true)\n",
      " |-- _c68: double (nullable = true)\n",
      " |-- _c69: double (nullable = true)\n",
      " |-- _c70: double (nullable = true)\n",
      " |-- _c71: double (nullable = true)\n",
      " |-- _c72: double (nullable = true)\n",
      " |-- _c73: double (nullable = true)\n",
      " |-- _c74: double (nullable = true)\n",
      " |-- _c75: double (nullable = true)\n",
      " |-- _c76: double (nullable = true)\n",
      " |-- _c77: double (nullable = true)\n",
      " |-- _c78: double (nullable = true)\n",
      " |-- _c79: double (nullable = true)\n",
      " |-- _c80: double (nullable = true)\n",
      " |-- _c81: double (nullable = true)\n",
      " |-- _c82: double (nullable = true)\n",
      " |-- _c83: double (nullable = true)\n",
      " |-- _c84: double (nullable = true)\n",
      " |-- _c85: double (nullable = true)\n",
      " |-- _c86: double (nullable = true)\n",
      " |-- _c87: double (nullable = true)\n",
      " |-- _c88: double (nullable = true)\n",
      " |-- _c89: double (nullable = true)\n",
      " |-- _c90: double (nullable = true)\n",
      " |-- _c91: double (nullable = true)\n",
      " |-- _c92: double (nullable = true)\n",
      " |-- _c93: double (nullable = true)\n",
      " |-- _c94: double (nullable = true)\n",
      " |-- _c95: double (nullable = true)\n",
      " |-- _c96: double (nullable = true)\n",
      " |-- _c97: double (nullable = true)\n",
      " |-- _c98: double (nullable = true)\n",
      " |-- _c99: double (nullable = true)\n",
      " |-- _c100: double (nullable = true)\n",
      " |-- _c101: double (nullable = true)\n",
      " |-- _c102: double (nullable = true)\n",
      " |-- _c103: double (nullable = true)\n",
      " |-- _c104: double (nullable = true)\n",
      " |-- _c105: double (nullable = true)\n",
      " |-- _c106: double (nullable = true)\n",
      " |-- _c107: double (nullable = true)\n",
      " |-- _c108: double (nullable = true)\n",
      " |-- _c109: double (nullable = true)\n",
      " |-- _c110: double (nullable = true)\n",
      " |-- _c111: double (nullable = true)\n",
      " |-- _c112: double (nullable = true)\n",
      " |-- _c113: double (nullable = true)\n",
      " |-- _c114: double (nullable = true)\n",
      " |-- _c115: double (nullable = true)\n",
      " |-- _c116: double (nullable = true)\n",
      " |-- _c117: double (nullable = true)\n",
      " |-- _c118: double (nullable = true)\n",
      " |-- _c119: double (nullable = true)\n",
      " |-- _c120: double (nullable = true)\n",
      " |-- _c121: double (nullable = true)\n",
      " |-- _c122: double (nullable = true)\n",
      " |-- _c123: double (nullable = true)\n",
      " |-- _c124: double (nullable = true)\n",
      " |-- _c125: double (nullable = true)\n",
      " |-- _c126: double (nullable = true)\n",
      " |-- _c127: double (nullable = true)\n",
      " |-- _c128: double (nullable = true)\n",
      " |-- _c129: double (nullable = true)\n",
      " |-- _c130: double (nullable = true)\n",
      " |-- _c131: double (nullable = true)\n",
      " |-- _c132: double (nullable = true)\n",
      " |-- _c133: double (nullable = true)\n",
      " |-- _c134: double (nullable = true)\n",
      " |-- _c135: double (nullable = true)\n",
      " |-- _c136: double (nullable = true)\n",
      " |-- _c137: double (nullable = true)\n",
      " |-- _c138: double (nullable = true)\n",
      " |-- _c139: double (nullable = true)\n",
      " |-- _c140: double (nullable = true)\n",
      " |-- _c141: double (nullable = true)\n",
      " |-- _c142: double (nullable = true)\n",
      " |-- _c143: double (nullable = true)\n",
      " |-- _c144: double (nullable = true)\n",
      " |-- _c145: double (nullable = true)\n",
      " |-- _c146: double (nullable = true)\n",
      " |-- _c147: double (nullable = true)\n",
      " |-- _c148: double (nullable = true)\n",
      " |-- _c149: double (nullable = true)\n",
      " |-- _c150: double (nullable = true)\n",
      " |-- _c151: double (nullable = true)\n",
      " |-- _c152: double (nullable = true)\n",
      " |-- _c153: double (nullable = true)\n",
      " |-- _c154: double (nullable = true)\n",
      " |-- _c155: double (nullable = true)\n",
      " |-- _c156: double (nullable = true)\n",
      " |-- _c157: double (nullable = true)\n",
      " |-- _c158: double (nullable = true)\n",
      " |-- _c159: double (nullable = true)\n",
      " |-- _c160: double (nullable = true)\n",
      " |-- _c161: double (nullable = true)\n",
      " |-- _c162: double (nullable = true)\n",
      " |-- _c163: double (nullable = true)\n",
      " |-- _c164: double (nullable = true)\n",
      " |-- _c165: double (nullable = true)\n",
      " |-- _c166: double (nullable = true)\n",
      " |-- _c167: double (nullable = true)\n",
      " |-- _c168: double (nullable = true)\n",
      " |-- _c169: double (nullable = true)\n",
      " |-- _c170: double (nullable = true)\n",
      " |-- _c171: double (nullable = true)\n",
      " |-- _c172: double (nullable = true)\n",
      " |-- _c173: double (nullable = true)\n",
      " |-- _c174: double (nullable = true)\n",
      " |-- _c175: double (nullable = true)\n",
      " |-- _c176: double (nullable = true)\n",
      " |-- _c177: double (nullable = true)\n",
      " |-- _c178: double (nullable = true)\n",
      " |-- _c179: double (nullable = true)\n",
      " |-- _c180: double (nullable = true)\n",
      " |-- _c181: double (nullable = true)\n",
      " |-- _c182: double (nullable = true)\n",
      " |-- _c183: double (nullable = true)\n",
      " |-- _c184: double (nullable = true)\n",
      " |-- _c185: double (nullable = true)\n",
      " |-- _c186: double (nullable = true)\n",
      " |-- _c187: double (nullable = true)\n",
      " |-- _c188: double (nullable = true)\n",
      " |-- _c189: double (nullable = true)\n",
      " |-- _c190: double (nullable = true)\n",
      " |-- _c191: double (nullable = true)\n",
      " |-- _c192: double (nullable = true)\n",
      " |-- _c193: double (nullable = true)\n",
      " |-- _c194: double (nullable = true)\n",
      " |-- _c195: double (nullable = true)\n",
      " |-- _c196: double (nullable = true)\n",
      " |-- _c197: double (nullable = true)\n",
      " |-- _c198: double (nullable = true)\n",
      " |-- _c199: double (nullable = true)\n",
      " |-- _c200: double (nullable = true)\n",
      " |-- _c201: double (nullable = true)\n",
      " |-- _c202: double (nullable = true)\n",
      " |-- _c203: double (nullable = true)\n",
      " |-- _c204: double (nullable = true)\n",
      " |-- _c205: double (nullable = true)\n",
      " |-- _c206: double (nullable = true)\n",
      " |-- _c207: double (nullable = true)\n",
      " |-- _c208: double (nullable = true)\n",
      " |-- _c209: double (nullable = true)\n",
      " |-- _c210: double (nullable = true)\n",
      " |-- _c211: double (nullable = true)\n",
      " |-- _c212: double (nullable = true)\n",
      " |-- _c213: double (nullable = true)\n",
      " |-- _c214: double (nullable = true)\n",
      " |-- _c215: double (nullable = true)\n",
      " |-- _c216: double (nullable = true)\n",
      " |-- _c217: double (nullable = true)\n",
      " |-- _c218: double (nullable = true)\n",
      " |-- _c219: double (nullable = true)\n",
      " |-- _c220: double (nullable = true)\n",
      " |-- _c221: double (nullable = true)\n",
      " |-- _c222: double (nullable = true)\n",
      " |-- _c223: double (nullable = true)\n",
      " |-- _c224: double (nullable = true)\n",
      " |-- _c225: double (nullable = true)\n",
      " |-- _c226: double (nullable = true)\n",
      " |-- _c227: double (nullable = true)\n",
      " |-- _c228: double (nullable = true)\n",
      " |-- _c229: double (nullable = true)\n",
      " |-- _c230: double (nullable = true)\n",
      " |-- _c231: double (nullable = true)\n",
      " |-- _c232: double (nullable = true)\n",
      " |-- _c233: double (nullable = true)\n",
      " |-- _c234: double (nullable = true)\n",
      " |-- _c235: double (nullable = true)\n",
      " |-- _c236: double (nullable = true)\n",
      " |-- _c237: double (nullable = true)\n",
      " |-- _c238: double (nullable = true)\n",
      " |-- _c239: double (nullable = true)\n",
      " |-- _c240: double (nullable = true)\n",
      " |-- _c241: double (nullable = true)\n",
      " |-- _c242: double (nullable = true)\n",
      " |-- _c243: double (nullable = true)\n",
      " |-- _c244: double (nullable = true)\n",
      " |-- _c245: double (nullable = true)\n",
      " |-- _c246: double (nullable = true)\n",
      " |-- _c247: double (nullable = true)\n",
      " |-- _c248: double (nullable = true)\n",
      " |-- _c249: double (nullable = true)\n",
      " |-- _c250: double (nullable = true)\n",
      " |-- _c251: double (nullable = true)\n",
      " |-- _c252: double (nullable = true)\n",
      " |-- _c253: double (nullable = true)\n",
      " |-- _c254: double (nullable = true)\n",
      " |-- _c255: double (nullable = true)\n",
      " |-- _c256: double (nullable = true)\n",
      " |-- _c257: double (nullable = true)\n",
      " |-- _c258: double (nullable = true)\n",
      " |-- _c259: double (nullable = true)\n",
      " |-- _c260: double (nullable = true)\n",
      " |-- _c261: double (nullable = true)\n",
      " |-- _c262: double (nullable = true)\n",
      " |-- _c263: double (nullable = true)\n",
      " |-- _c264: double (nullable = true)\n",
      " |-- _c265: double (nullable = true)\n",
      " |-- _c266: double (nullable = true)\n",
      " |-- _c267: double (nullable = true)\n",
      " |-- _c268: double (nullable = true)\n",
      " |-- _c269: double (nullable = true)\n",
      " |-- _c270: double (nullable = true)\n",
      " |-- _c271: double (nullable = true)\n",
      " |-- _c272: double (nullable = true)\n",
      " |-- _c273: double (nullable = true)\n",
      " |-- _c274: double (nullable = true)\n",
      " |-- _c275: double (nullable = true)\n",
      " |-- _c276: double (nullable = true)\n",
      " |-- _c277: double (nullable = true)\n",
      " |-- _c278: double (nullable = true)\n",
      " |-- _c279: double (nullable = true)\n",
      " |-- _c280: double (nullable = true)\n",
      " |-- _c281: double (nullable = true)\n",
      " |-- _c282: double (nullable = true)\n",
      " |-- _c283: double (nullable = true)\n",
      " |-- _c284: double (nullable = true)\n",
      " |-- _c285: double (nullable = true)\n",
      " |-- _c286: double (nullable = true)\n",
      " |-- _c287: double (nullable = true)\n",
      " |-- _c288: double (nullable = true)\n",
      " |-- _c289: double (nullable = true)\n",
      " |-- _c290: double (nullable = true)\n",
      " |-- _c291: double (nullable = true)\n",
      " |-- _c292: double (nullable = true)\n",
      " |-- _c293: double (nullable = true)\n",
      " |-- _c294: double (nullable = true)\n",
      " |-- _c295: double (nullable = true)\n",
      " |-- _c296: double (nullable = true)\n",
      " |-- _c297: double (nullable = true)\n",
      " |-- _c298: double (nullable = true)\n",
      " |-- _c299: double (nullable = true)\n",
      " |-- _c300: double (nullable = true)\n",
      " |-- _c301: double (nullable = true)\n",
      " |-- _c302: double (nullable = true)\n",
      " |-- _c303: double (nullable = true)\n",
      " |-- _c304: double (nullable = true)\n",
      " |-- _c305: double (nullable = true)\n",
      " |-- _c306: double (nullable = true)\n",
      " |-- _c307: double (nullable = true)\n",
      " |-- _c308: double (nullable = true)\n",
      " |-- _c309: double (nullable = true)\n",
      " |-- _c310: double (nullable = true)\n",
      " |-- _c311: double (nullable = true)\n",
      " |-- _c312: double (nullable = true)\n",
      " |-- _c313: double (nullable = true)\n",
      " |-- _c314: double (nullable = true)\n",
      " |-- _c315: double (nullable = true)\n",
      " |-- _c316: double (nullable = true)\n",
      " |-- _c317: double (nullable = true)\n",
      " |-- _c318: double (nullable = true)\n",
      " |-- _c319: double (nullable = true)\n",
      " |-- _c320: double (nullable = true)\n",
      " |-- _c321: double (nullable = true)\n",
      " |-- _c322: double (nullable = true)\n",
      " |-- _c323: double (nullable = true)\n",
      " |-- _c324: double (nullable = true)\n",
      " |-- _c325: double (nullable = true)\n",
      " |-- _c326: double (nullable = true)\n",
      " |-- _c327: double (nullable = true)\n",
      " |-- _c328: double (nullable = true)\n",
      " |-- _c329: double (nullable = true)\n",
      " |-- _c330: double (nullable = true)\n",
      " |-- _c331: double (nullable = true)\n",
      " |-- _c332: double (nullable = true)\n",
      " |-- _c333: double (nullable = true)\n",
      " |-- _c334: double (nullable = true)\n",
      " |-- _c335: double (nullable = true)\n",
      " |-- _c336: double (nullable = true)\n",
      " |-- _c337: double (nullable = true)\n",
      " |-- _c338: double (nullable = true)\n",
      " |-- _c339: double (nullable = true)\n",
      " |-- _c340: double (nullable = true)\n",
      " |-- _c341: double (nullable = true)\n",
      " |-- _c342: double (nullable = true)\n",
      " |-- _c343: double (nullable = true)\n",
      " |-- _c344: double (nullable = true)\n",
      " |-- _c345: double (nullable = true)\n",
      " |-- _c346: double (nullable = true)\n",
      " |-- _c347: double (nullable = true)\n",
      " |-- _c348: double (nullable = true)\n",
      " |-- _c349: double (nullable = true)\n",
      " |-- _c350: double (nullable = true)\n",
      " |-- _c351: double (nullable = true)\n",
      " |-- _c352: double (nullable = true)\n",
      " |-- _c353: double (nullable = true)\n",
      " |-- _c354: double (nullable = true)\n",
      " |-- _c355: double (nullable = true)\n",
      " |-- _c356: double (nullable = true)\n",
      " |-- _c357: double (nullable = true)\n",
      " |-- _c358: double (nullable = true)\n",
      " |-- _c359: double (nullable = true)\n",
      " |-- _c360: double (nullable = true)\n",
      " |-- _c361: double (nullable = true)\n",
      " |-- _c362: double (nullable = true)\n",
      " |-- _c363: double (nullable = true)\n",
      " |-- _c364: double (nullable = true)\n",
      " |-- _c365: double (nullable = true)\n",
      " |-- _c366: double (nullable = true)\n",
      " |-- _c367: double (nullable = true)\n",
      " |-- _c368: double (nullable = true)\n",
      " |-- _c369: double (nullable = true)\n",
      " |-- _c370: double (nullable = true)\n",
      " |-- _c371: double (nullable = true)\n",
      " |-- _c372: double (nullable = true)\n",
      " |-- _c373: double (nullable = true)\n",
      " |-- _c374: double (nullable = true)\n",
      " |-- _c375: double (nullable = true)\n",
      " |-- _c376: double (nullable = true)\n",
      " |-- _c377: double (nullable = true)\n",
      " |-- _c378: double (nullable = true)\n",
      " |-- _c379: double (nullable = true)\n",
      " |-- _c380: double (nullable = true)\n",
      " |-- _c381: double (nullable = true)\n",
      " |-- _c382: double (nullable = true)\n",
      " |-- _c383: double (nullable = true)\n",
      " |-- _c384: double (nullable = true)\n",
      " |-- _c385: double (nullable = true)\n",
      " |-- _c386: double (nullable = true)\n",
      " |-- _c387: double (nullable = true)\n",
      " |-- _c388: double (nullable = true)\n",
      " |-- _c389: double (nullable = true)\n",
      " |-- _c390: double (nullable = true)\n",
      " |-- _c391: double (nullable = true)\n",
      " |-- _c392: double (nullable = true)\n",
      " |-- _c393: double (nullable = true)\n",
      " |-- _c394: double (nullable = true)\n",
      " |-- _c395: double (nullable = true)\n",
      " |-- _c396: double (nullable = true)\n",
      " |-- _c397: double (nullable = true)\n",
      " |-- _c398: double (nullable = true)\n",
      " |-- _c399: double (nullable = true)\n",
      " |-- _c400: double (nullable = true)\n",
      " |-- _c401: double (nullable = true)\n",
      " |-- _c402: double (nullable = true)\n",
      " |-- _c403: double (nullable = true)\n",
      " |-- _c404: double (nullable = true)\n",
      " |-- _c405: double (nullable = true)\n",
      " |-- _c406: double (nullable = true)\n",
      " |-- _c407: double (nullable = true)\n",
      " |-- _c408: double (nullable = true)\n",
      " |-- _c409: double (nullable = true)\n",
      " |-- _c410: double (nullable = true)\n",
      " |-- _c411: double (nullable = true)\n",
      " |-- _c412: double (nullable = true)\n",
      " |-- _c413: double (nullable = true)\n",
      " |-- _c414: double (nullable = true)\n",
      " |-- _c415: double (nullable = true)\n",
      " |-- _c416: double (nullable = true)\n",
      " |-- _c417: double (nullable = true)\n",
      " |-- _c418: double (nullable = true)\n",
      " |-- _c419: double (nullable = true)\n",
      " |-- _c420: double (nullable = true)\n",
      " |-- _c421: double (nullable = true)\n",
      " |-- _c422: double (nullable = true)\n",
      " |-- _c423: double (nullable = true)\n",
      " |-- _c424: double (nullable = true)\n",
      " |-- _c425: double (nullable = true)\n",
      " |-- _c426: double (nullable = true)\n",
      " |-- _c427: double (nullable = true)\n",
      " |-- _c428: double (nullable = true)\n",
      " |-- _c429: double (nullable = true)\n",
      " |-- _c430: double (nullable = true)\n",
      " |-- _c431: double (nullable = true)\n",
      " |-- _c432: double (nullable = true)\n",
      " |-- _c433: double (nullable = true)\n",
      " |-- _c434: double (nullable = true)\n",
      " |-- _c435: double (nullable = true)\n",
      " |-- _c436: double (nullable = true)\n",
      " |-- _c437: double (nullable = true)\n",
      " |-- _c438: double (nullable = true)\n",
      " |-- _c439: double (nullable = true)\n",
      " |-- _c440: double (nullable = true)\n",
      " |-- _c441: double (nullable = true)\n",
      " |-- _c442: double (nullable = true)\n",
      " |-- _c443: double (nullable = true)\n",
      " |-- _c444: double (nullable = true)\n",
      " |-- _c445: double (nullable = true)\n",
      " |-- _c446: double (nullable = true)\n",
      " |-- _c447: double (nullable = true)\n",
      " |-- _c448: double (nullable = true)\n",
      " |-- _c449: double (nullable = true)\n",
      " |-- _c450: double (nullable = true)\n",
      " |-- _c451: double (nullable = true)\n",
      " |-- _c452: double (nullable = true)\n",
      " |-- _c453: double (nullable = true)\n",
      " |-- _c454: double (nullable = true)\n",
      " |-- _c455: double (nullable = true)\n",
      " |-- _c456: double (nullable = true)\n",
      " |-- _c457: double (nullable = true)\n",
      " |-- _c458: double (nullable = true)\n",
      " |-- _c459: double (nullable = true)\n",
      " |-- _c460: double (nullable = true)\n",
      " |-- _c461: double (nullable = true)\n",
      " |-- _c462: double (nullable = true)\n",
      " |-- _c463: double (nullable = true)\n",
      " |-- _c464: double (nullable = true)\n",
      " |-- _c465: double (nullable = true)\n",
      " |-- _c466: double (nullable = true)\n",
      " |-- _c467: double (nullable = true)\n",
      " |-- _c468: double (nullable = true)\n",
      " |-- _c469: double (nullable = true)\n",
      " |-- _c470: double (nullable = true)\n",
      " |-- _c471: double (nullable = true)\n",
      " |-- _c472: double (nullable = true)\n",
      " |-- _c473: double (nullable = true)\n",
      " |-- _c474: double (nullable = true)\n",
      " |-- _c475: double (nullable = true)\n",
      " |-- _c476: double (nullable = true)\n",
      " |-- _c477: double (nullable = true)\n",
      " |-- _c478: double (nullable = true)\n",
      " |-- _c479: double (nullable = true)\n",
      " |-- _c480: double (nullable = true)\n",
      " |-- _c481: double (nullable = true)\n",
      " |-- _c482: double (nullable = true)\n",
      " |-- _c483: double (nullable = true)\n",
      " |-- _c484: double (nullable = true)\n",
      " |-- _c485: double (nullable = true)\n",
      " |-- _c486: double (nullable = true)\n",
      " |-- _c487: double (nullable = true)\n",
      " |-- _c488: double (nullable = true)\n",
      " |-- _c489: double (nullable = true)\n",
      " |-- _c490: double (nullable = true)\n",
      " |-- _c491: double (nullable = true)\n",
      " |-- _c492: double (nullable = true)\n",
      " |-- _c493: double (nullable = true)\n",
      " |-- _c494: double (nullable = true)\n",
      " |-- _c495: double (nullable = true)\n",
      " |-- _c496: double (nullable = true)\n",
      " |-- _c497: double (nullable = true)\n",
      " |-- _c498: double (nullable = true)\n",
      " |-- _c499: double (nullable = true)\n",
      " |-- _c500: double (nullable = true)\n",
      " |-- _c501: double (nullable = true)\n",
      " |-- _c502: double (nullable = true)\n",
      " |-- _c503: double (nullable = true)\n",
      " |-- _c504: double (nullable = true)\n",
      " |-- _c505: double (nullable = true)\n",
      " |-- _c506: double (nullable = true)\n",
      " |-- _c507: double (nullable = true)\n",
      " |-- _c508: double (nullable = true)\n",
      " |-- _c509: double (nullable = true)\n",
      " |-- _c510: double (nullable = true)\n",
      " |-- _c511: double (nullable = true)\n",
      " |-- _c512: double (nullable = true)\n",
      " |-- _c513: double (nullable = true)\n",
      " |-- _c514: double (nullable = true)\n",
      " |-- _c515: double (nullable = true)\n",
      " |-- _c516: double (nullable = true)\n",
      " |-- _c517: double (nullable = true)\n",
      " |-- _c518: double (nullable = true)\n",
      " |-- _c519: double (nullable = true)\n",
      " |-- _c520: double (nullable = true)\n",
      " |-- _c521: double (nullable = true)\n",
      " |-- _c522: double (nullable = true)\n",
      " |-- _c523: double (nullable = true)\n",
      " |-- _c524: double (nullable = true)\n",
      " |-- _c525: double (nullable = true)\n",
      " |-- _c526: double (nullable = true)\n",
      " |-- _c527: double (nullable = true)\n",
      " |-- _c528: double (nullable = true)\n",
      " |-- _c529: double (nullable = true)\n",
      " |-- _c530: double (nullable = true)\n",
      " |-- _c531: double (nullable = true)\n",
      " |-- _c532: double (nullable = true)\n",
      " |-- _c533: double (nullable = true)\n",
      " |-- _c534: double (nullable = true)\n",
      " |-- _c535: double (nullable = true)\n",
      " |-- _c536: double (nullable = true)\n",
      " |-- _c537: double (nullable = true)\n",
      " |-- _c538: double (nullable = true)\n",
      " |-- _c539: double (nullable = true)\n",
      " |-- _c540: double (nullable = true)\n",
      " |-- _c541: double (nullable = true)\n",
      " |-- _c542: double (nullable = true)\n",
      " |-- _c543: double (nullable = true)\n",
      " |-- _c544: double (nullable = true)\n",
      " |-- _c545: double (nullable = true)\n",
      " |-- _c546: double (nullable = true)\n",
      " |-- _c547: double (nullable = true)\n",
      " |-- _c548: double (nullable = true)\n",
      " |-- _c549: double (nullable = true)\n",
      " |-- _c550: double (nullable = true)\n",
      " |-- _c551: double (nullable = true)\n",
      " |-- _c552: double (nullable = true)\n",
      " |-- _c553: double (nullable = true)\n",
      " |-- _c554: double (nullable = true)\n",
      " |-- _c555: double (nullable = true)\n",
      " |-- _c556: double (nullable = true)\n",
      " |-- _c557: double (nullable = true)\n",
      " |-- _c558: double (nullable = true)\n",
      " |-- _c559: double (nullable = true)\n",
      " |-- _c560: double (nullable = true)\n",
      " |-- _c561: double (nullable = true)\n",
      " |-- features: vector (nullable = true)\n",
      "\n"
     ]
    }
   ],
   "source": [
    "df.printSchema()"
   ]
  },
  {
   "cell_type": "code",
   "execution_count": 66,
   "metadata": {},
   "outputs": [
    {
     "name": "stdout",
     "output_type": "stream",
     "text": [
      "+--------------------+\n",
      "|            features|\n",
      "+--------------------+\n",
      "|[0.289,-0.0203,-0...|\n",
      "|[0.278,-0.0164,-0...|\n",
      "|[0.28,-0.0195,-0....|\n",
      "|[0.279,-0.0262,-0...|\n",
      "|[0.277,-0.0166,-0...|\n",
      "+--------------------+\n",
      "only showing top 5 rows\n",
      "\n"
     ]
    }
   ],
   "source": [
    "df.select('features').show(5)"
   ]
  },
  {
   "cell_type": "code",
   "execution_count": null,
   "metadata": {},
   "outputs": [],
   "source": []
  },
  {
   "cell_type": "code",
   "execution_count": 67,
   "metadata": {},
   "outputs": [
    {
     "name": "stdout",
     "output_type": "stream",
     "text": [
      "+---+------------------+\n",
      "|_c0|               _c1|\n",
      "+---+------------------+\n",
      "|  1|           WALKING|\n",
      "|  2|  WALKING_UPSTAIRS|\n",
      "|  3|WALKING_DOWNSTAIRS|\n",
      "|  4|           SITTING|\n",
      "|  5|          STANDING|\n",
      "|  6|            LAYING|\n",
      "+---+------------------+\n",
      "\n"
     ]
    }
   ],
   "source": [
    "activity_labels.show()"
   ]
  },
  {
   "cell_type": "code",
   "execution_count": 68,
   "metadata": {},
   "outputs": [],
   "source": [
    "from pyspark.ml.linalg import Vectors\n",
    "data = [(Vectors.sparse(5, [(1, 1.0), (3, 7.0)]),), \n",
    "        (Vectors.dense([2.0, 0.0, 3.0, 4.0, 5.0]),),\n",
    "        (Vectors.dense([4.0, 0.0, 0.0, 6.0, 7.0]),)]\n",
    "df2 = spark.createDataFrame(data,[\"features\"])"
   ]
  },
  {
   "cell_type": "code",
   "execution_count": 69,
   "metadata": {},
   "outputs": [
    {
     "name": "stdout",
     "output_type": "stream",
     "text": [
      "+--------------------+\n",
      "|            features|\n",
      "+--------------------+\n",
      "| (5,[1,3],[1.0,7.0])|\n",
      "|[2.0,0.0,3.0,4.0,...|\n",
      "|[4.0,0.0,0.0,6.0,...|\n",
      "+--------------------+\n",
      "\n"
     ]
    }
   ],
   "source": [
    "df2.show()"
   ]
  },
  {
   "cell_type": "code",
   "execution_count": 70,
   "metadata": {},
   "outputs": [],
   "source": [
    "from pyspark.ml.feature import PCA\n",
    "pca = PCA(k=300, inputCol=\"features\", outputCol=\"pca_features\")\n",
    "model = pca.fit(df)"
   ]
  },
  {
   "cell_type": "code",
   "execution_count": 71,
   "metadata": {},
   "outputs": [
    {
     "data": {
      "text/plain": [
       "10299"
      ]
     },
     "execution_count": 71,
     "metadata": {},
     "output_type": "execute_result"
    }
   ],
   "source": [
    "result = model.transform(df).select(\"pca_features\")\n",
    "result.count()"
   ]
  },
  {
   "cell_type": "code",
   "execution_count": 72,
   "metadata": {},
   "outputs": [
    {
     "data": {
      "text/plain": [
       "10299"
      ]
     },
     "execution_count": 72,
     "metadata": {},
     "output_type": "execute_result"
    }
   ],
   "source": [
    "df.count()"
   ]
  },
  {
   "cell_type": "code",
   "execution_count": 85,
   "metadata": {},
   "outputs": [],
   "source": [
    "from pyspark.ml.feature import ChiSqSelector\n",
    "\n",
    "selector = ChiSqSelector(numTopFeatures=100, featuresCol=\"features\",\n",
    "                        outputCol=\"selectedFeatures\", labelCol=\"_c0\")\n",
    "result = selector.fit(df).transform(df)"
   ]
  },
  {
   "cell_type": "code",
   "execution_count": 90,
   "metadata": {},
   "outputs": [],
   "source": [
    "labelIndexer = StringIndexer(inputCol=\"_c0\", outputCol=\"indexedLabel\").fit(result)\n",
    "\n",
    "# now generate the indexed feature vector\n",
    "featureIndexer = VectorIndexer(inputCol=\"selectedFeatures\", outputCol=\"indexedFeatures\", maxCategories=4).fit(result)\n",
    "    \n",
    "# Split the data into training and validation sets (30% held out for testing)\n",
    "(trainingData, testData) = result.randomSplit([TRAINING_DATA_RATIO, 1 - TRAINING_DATA_RATIO])\n",
    "\n",
    "# Train a RandomForest model.\n",
    "rf = RandomForestClassifier(labelCol=\"indexedLabel\", featuresCol=\"indexedFeatures\", numTrees=RF_NUM_TREES)\n",
    "\n",
    "# Chain indexers and forest in a Pipeline\n",
    "pipeline = Pipeline(stages=[labelIndexer, featureIndexer, rf])"
   ]
  },
  {
   "cell_type": "code",
   "execution_count": 91,
   "metadata": {},
   "outputs": [],
   "source": [
    "model = pipeline.fit(trainingData)\n",
    "predictions = model.transform(testData)"
   ]
  },
  {
   "cell_type": "code",
   "execution_count": 92,
   "metadata": {},
   "outputs": [
    {
     "name": "stdout",
     "output_type": "stream",
     "text": [
      "Test Error = 0.0860421\n",
      "Accuracy = 0.913958\n"
     ]
    }
   ],
   "source": [
    "# Select (prediction, true label) and compute test error\n",
    "evaluator = MulticlassClassificationEvaluator(\n",
    "    labelCol=\"indexedLabel\", predictionCol=\"prediction\", metricName=\"accuracy\")\n",
    "accuracy = evaluator.evaluate(predictions)\n",
    "\n",
    "print(f\"Test Error = {(1.0 - accuracy):g}\")\n",
    "print(f\"Accuracy = {accuracy:g}\")"
   ]
  },
  {
   "cell_type": "code",
   "execution_count": 108,
   "metadata": {},
   "outputs": [],
   "source": [
    "labelIndexer = StringIndexer(inputCol=\"_c0\", outputCol=\"indexedLabel\").fit(result)\n",
    "featureIndexer = VectorIndexer(inputCol=\"selectedFeatures\", outputCol=\"indexedFeatures\", maxCategories=4).fit(result)\n",
    "(trainingData, testData) = result.randomSplit([TRAINING_DATA_RATIO, 1 - TRAINING_DATA_RATIO])\n",
    "rf = RandomForestClassifier(labelCol=\"indexedLabel\", featuresCol=\"indexedFeatures\", numTrees=20)\n",
    "pipeline = Pipeline(stages=[labelIndexer, featureIndexer, rf])\n",
    "\n",
    "model = pipeline.fit(trainingData)\n",
    "predictions = model.transform(testData)"
   ]
  },
  {
   "cell_type": "code",
   "execution_count": 109,
   "metadata": {},
   "outputs": [
    {
     "name": "stdout",
     "output_type": "stream",
     "text": [
      "Test Error = 0.0901034\n",
      "Accuracy = 0.909897\n"
     ]
    }
   ],
   "source": [
    "# Select (prediction, true label) and compute test error\n",
    "evaluator = MulticlassClassificationEvaluator(\n",
    "    labelCol=\"indexedLabel\", predictionCol=\"prediction\", metricName=\"accuracy\")\n",
    "accuracy = evaluator.evaluate(predictions)\n",
    "\n",
    "print(f\"Test Error = {(1.0 - accuracy):g}\")\n",
    "print(f\"Accuracy = {accuracy:g}\")"
   ]
  },
  {
   "cell_type": "code",
   "execution_count": null,
   "metadata": {},
   "outputs": [],
   "source": []
  }
 ],
 "metadata": {
  "kernelspec": {
   "display_name": "Python 3",
   "language": "python",
   "name": "python3"
  },
  "language_info": {
   "codemirror_mode": {
    "name": "ipython",
    "version": 3
   },
   "file_extension": ".py",
   "mimetype": "text/x-python",
   "name": "python",
   "nbconvert_exporter": "python",
   "pygments_lexer": "ipython3",
   "version": "3.6.3"
  }
 },
 "nbformat": 4,
 "nbformat_minor": 2
}
