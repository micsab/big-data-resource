{
 "cells": [
  {
   "cell_type": "code",
   "execution_count": 4,
   "metadata": {},
   "outputs": [],
   "source": [
    "from pyspark import SparkContext\n",
    "from pyspark.sql import SparkSession\n",
    "\n",
    "from pyspark.ml import Pipeline\n",
    "from pyspark.ml.classification import RandomForestClassifier\n",
    "from pyspark.ml.feature import IndexToString, StringIndexer, VectorIndexer, VectorAssembler\n",
    "from pyspark.ml.evaluation import MulticlassClassificationEvaluator\n",
    "\n",
    "from pyspark.sql.functions import isnan, when, count, col, monotonically_increasing_id"
   ]
  },
  {
   "cell_type": "code",
   "execution_count": 5,
   "metadata": {},
   "outputs": [],
   "source": [
    "JSON_PATH = \"reviews_Video_Games_5.json\"\n",
    "APP_NAME = \"AMAZON VIDEO GAME ANALYSIS\"\n",
    "SPARK_URL = \"local[*]\"\n",
    "RANDOM_SEED = 141107\n",
    "TRAINING_DATA_RATIO = 0.8"
   ]
  },
  {
   "cell_type": "code",
   "execution_count": 6,
   "metadata": {},
   "outputs": [],
   "source": [
    "spark = SparkSession.builder.appName(APP_NAME).master(SPARK_URL).getOrCreate()"
   ]
  },
  {
   "cell_type": "code",
   "execution_count": 7,
   "metadata": {},
   "outputs": [],
   "source": [
    "df = spark.read.json(JSON_PATH)"
   ]
  },
  {
   "cell_type": "code",
   "execution_count": 8,
   "metadata": {},
   "outputs": [
    {
     "name": "stdout",
     "output_type": "stream",
     "text": [
      "root\n",
      " |-- asin: string (nullable = true)\n",
      " |-- helpful: array (nullable = true)\n",
      " |    |-- element: long (containsNull = true)\n",
      " |-- overall: double (nullable = true)\n",
      " |-- reviewText: string (nullable = true)\n",
      " |-- reviewTime: string (nullable = true)\n",
      " |-- reviewerID: string (nullable = true)\n",
      " |-- reviewerName: string (nullable = true)\n",
      " |-- summary: string (nullable = true)\n",
      " |-- unixReviewTime: long (nullable = true)\n",
      "\n"
     ]
    }
   ],
   "source": [
    "df.printSchema()"
   ]
  },
  {
   "cell_type": "code",
   "execution_count": 9,
   "metadata": {},
   "outputs": [
    {
     "name": "stdout",
     "output_type": "stream",
     "text": [
      "+--------------------+--------------------+-------+\n",
      "|          reviewText|             summary|overall|\n",
      "+--------------------+--------------------+-------+\n",
      "|Installing the ga...|Pay to unlock con...|    1.0|\n",
      "|If you like rally...|     Good rally game|    4.0|\n",
      "|1st shipment rece...|           Wrong key|    1.0|\n",
      "|I got this versio...|awesome game, if ...|    3.0|\n",
      "|I had Dirt 2 on X...|              DIRT 3|    4.0|\n",
      "|Overall this is a...|Good racing game,...|    4.0|\n",
      "|Loved playing Dir...|A step up from Di...|    5.0|\n",
      "|I can't tell you ...|Crash 3 is correc...|    1.0|\n",
      "|I initially gave ...|A great game ruin...|    4.0|\n",
      "|I still haven't f...|Couldn't get this...|    2.0|\n",
      "|I'm not quite fin...| Best in the series!|    5.0|\n",
      "|I have been playi...|   A 5 stars winner!|    5.0|\n",
      "|Dirt 3 on DVDi co...|                Cars|    5.0|\n",
      "|I bought this and...|It might have bee...|    1.0|\n",
      "|Crashed in Vista....|Don't waste your ...|    1.0|\n",
      "|This game was a r...|Not as good as Di...|    1.0|\n",
      "|In today's game m...|An overlooked gem...|    4.0|\n",
      "|This really is a ...|Better than Dirt ...|    3.0|\n",
      "|This game is bug ...|Colin McRae CRASH 3!|    1.0|\n",
      "|DiRT 2 was like t...|The first one was...|    1.0|\n",
      "+--------------------+--------------------+-------+\n",
      "only showing top 20 rows\n",
      "\n"
     ]
    }
   ],
   "source": [
    "df.select(['reviewText', 'summary', 'overall']).show()"
   ]
  },
  {
   "cell_type": "code",
   "execution_count": 10,
   "metadata": {},
   "outputs": [],
   "source": [
    "df2 = df.withColumn('target', when(df.overall < 3, 0).otherwise(1))\n",
    "df2 = df2.withColumn('id', monotonically_increasing_id())"
   ]
  },
  {
   "cell_type": "code",
   "execution_count": 18,
   "metadata": {},
   "outputs": [
    {
     "name": "stdout",
     "output_type": "stream",
     "text": [
      "root\n",
      " |-- id: long (nullable = false)\n",
      " |-- reviewText: string (nullable = true)\n",
      " |-- label: integer (nullable = false)\n",
      "\n"
     ]
    }
   ],
   "source": [
    "df2 = df2.select(['id', 'reviewText', 'target'])\n",
    "df2 = df2.selectExpr(\"id as id\", \"reviewText as reviewText\", \"target as label\")\n",
    "df2.printSchema()"
   ]
  },
  {
   "cell_type": "code",
   "execution_count": 19,
   "metadata": {},
   "outputs": [
    {
     "name": "stdout",
     "output_type": "stream",
     "text": [
      "+---+--------------------+-----+\n",
      "| id|          reviewText|label|\n",
      "+---+--------------------+-----+\n",
      "|  0|Installing the ga...|    0|\n",
      "|  1|If you like rally...|    1|\n",
      "|  2|1st shipment rece...|    0|\n",
      "|  3|I got this versio...|    1|\n",
      "|  4|I had Dirt 2 on X...|    1|\n",
      "+---+--------------------+-----+\n",
      "only showing top 5 rows\n",
      "\n"
     ]
    }
   ],
   "source": [
    "df2.show(5)"
   ]
  },
  {
   "cell_type": "code",
   "execution_count": 20,
   "metadata": {},
   "outputs": [
    {
     "data": {
      "text/plain": [
       "DataFrame[summary: string, id: string, reviewText: string, label: string]"
      ]
     },
     "execution_count": 20,
     "metadata": {},
     "output_type": "execute_result"
    }
   ],
   "source": [
    "df2.describe()"
   ]
  },
  {
   "cell_type": "code",
   "execution_count": 21,
   "metadata": {},
   "outputs": [],
   "source": [
    "(trainingData, valdata, testData) = df2.randomSplit([0.75, 0.05, 0.20])"
   ]
  },
  {
   "cell_type": "code",
   "execution_count": 22,
   "metadata": {},
   "outputs": [
    {
     "name": "stdout",
     "output_type": "stream",
     "text": [
      "+---+--------------------+-----+--------------------+--------------------+--------------------+\n",
      "| id|          reviewText|label|               words|                  tf|            features|\n",
      "+---+--------------------+-----+--------------------+--------------------+--------------------+\n",
      "|  0|Installing the ga...|    0|[installing, the,...|(65536,[14,680,16...|(65536,[14,680,16...|\n",
      "|  1|If you like rally...|    1|[if, you, like, r...|(65536,[2410,3092...|(65536,[2410,3092...|\n",
      "|  2|1st shipment rece...|    0|[1st, shipment, r...|(65536,[568,6534,...|(65536,[568,6534,...|\n",
      "|  3|I got this versio...|    1|[i, got, this, ve...|(65536,[14,672,73...|(65536,[14,672,73...|\n",
      "|  6|Loved playing Dir...|    1|[loved, playing, ...|(65536,[4461,4488...|(65536,[4461,4488...|\n",
      "|  7|I can't tell you ...|    0|[i, can't, tell, ...|(65536,[1903,2026...|(65536,[1903,2026...|\n",
      "|  9|I still haven't f...|    0|[i, still, haven'...|(65536,[3053,3149...|(65536,[3053,3149...|\n",
      "| 12|Dirt 3 on DVDi co...|    1|[dirt, 3, on, dvd...|(65536,[8436,1606...|(65536,[8436,1606...|\n",
      "| 13|I bought this and...|    0|[i, bought, this,...|(65536,[5782,8436...|(65536,[5782,8436...|\n",
      "| 14|Crashed in Vista....|    0|[crashed, in, vis...|(65536,[4775,8315...|(65536,[4775,8315...|\n",
      "| 15|This game was a r...|    0|[this, game, was,...|(65536,[4807,7823...|(65536,[4807,7823...|\n",
      "| 16|In today's game m...|    1|[in, today's, gam...|(65536,[495,597,6...|(65536,[495,597,6...|\n",
      "| 17|This really is a ...|    1|[this, really, is...|(65536,[14,2410,3...|(65536,[14,2410,3...|\n",
      "| 20|lot of people don...|    1|[lot, of, people,...|(65536,[8436,8443...|(65536,[8436,8443...|\n",
      "| 21|I would like give...|    0|[i, would, like, ...|(65536,[876,3331,...|(65536,[876,3331,...|\n",
      "| 23|This is a pretty ...|    1|[this, is, a, pre...|(65536,[14,395,11...|(65536,[14,395,11...|\n",
      "| 24|This is a must ha...|    1|[this, is, a, mus...|(65536,[14,1386,2...|(65536,[14,1386,2...|\n",
      "| 25|Works good, howev...|    1|[works, good,, ho...|(65536,[1776,8026...|(65536,[1776,8026...|\n",
      "| 26|I bought this mic...|    1|[i, bought, this,...|(65536,[319,1109,...|(65536,[319,1109,...|\n",
      "| 27|I love it! Use it...|    1|[i, love, it!, us...|(65536,[14,2711,4...|(65536,[14,2711,4...|\n",
      "+---+--------------------+-----+--------------------+--------------------+--------------------+\n",
      "only showing top 20 rows\n",
      "\n"
     ]
    }
   ],
   "source": [
    "from pyspark.ml.feature import HashingTF, IDF, Tokenizer\n",
    "\n",
    "tokenizer = Tokenizer(inputCol=\"reviewText\", outputCol=\"words\")\n",
    "hashtf = HashingTF(numFeatures=2**16, inputCol=\"words\", outputCol=\"tf\")\n",
    "idf = IDF(inputCol=\"tf\", outputCol=\"features\", minDocFreq=5)\n",
    "#label_stringIdx = StringIndexer(inputCol=\"target\", outputCol=\"label\")\n",
    "pipeline = Pipeline(stages=[tokenizer, hashtf, idf])\n",
    "\n",
    "pipelineFit = pipeline.fit(trainingData)\n",
    "train_df = pipelineFit.transform(trainingData)\n",
    "val_df = pipelineFit.transform(valdata)\n",
    "train_df.show(20)"
   ]
  },
  {
   "cell_type": "code",
   "execution_count": 23,
   "metadata": {},
   "outputs": [],
   "source": [
    "from pyspark.ml.classification import LogisticRegression\n",
    "\n",
    "lr = LogisticRegression(maxIter=100)\n",
    "lrModel = lr.fit(train_df)\n",
    "predictions = lrModel.transform(val_df)"
   ]
  },
  {
   "cell_type": "code",
   "execution_count": 24,
   "metadata": {},
   "outputs": [
    {
     "data": {
      "text/plain": [
       "0.7731273946108982"
      ]
     },
     "execution_count": 24,
     "metadata": {},
     "output_type": "execute_result"
    }
   ],
   "source": [
    "from pyspark.ml.evaluation import BinaryClassificationEvaluator\n",
    "\n",
    "evaluator = BinaryClassificationEvaluator(rawPredictionCol=\"rawPrediction\")\n",
    "evaluator.evaluate(predictions)"
   ]
  },
  {
   "cell_type": "code",
   "execution_count": 25,
   "metadata": {},
   "outputs": [
    {
     "data": {
      "text/plain": [
       "0.8601098523858565"
      ]
     },
     "execution_count": 25,
     "metadata": {},
     "output_type": "execute_result"
    }
   ],
   "source": [
    "accuracy = predictions.filter(predictions.label == predictions.prediction).count() / float(valdata.count())\n",
    "accuracy"
   ]
  }
 ],
 "metadata": {
  "kernelspec": {
   "display_name": "Python 3",
   "language": "python",
   "name": "python3"
  },
  "language_info": {
   "codemirror_mode": {
    "name": "ipython",
    "version": 3
   },
   "file_extension": ".py",
   "mimetype": "text/x-python",
   "name": "python",
   "nbconvert_exporter": "python",
   "pygments_lexer": "ipython3",
   "version": "3.6.3"
  }
 },
 "nbformat": 4,
 "nbformat_minor": 2
}
